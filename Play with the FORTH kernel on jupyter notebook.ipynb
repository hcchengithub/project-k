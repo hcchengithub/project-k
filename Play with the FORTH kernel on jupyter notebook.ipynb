{
 "cells": [
  {
   "cell_type": "markdown",
   "metadata": {},
   "source": [
    "[https://github.com/hcchengithub/project-k/wiki/Play-with-the-forth-kernel-on-python](https://github.com/hcchengithub/project-k/wiki/Play-with-the-forth-kernel-on-python)\n",
    "\n",
    "# Play with the FORTH kernel on jupyter notebook\n",
    "\n",
    "I swear it's very simple and it takes only 15 minutes to have your own FORTH system!\n",
    "\n",
    "You are reading this article so you have _python, ipython, and jupyter notebook_ installed already. However, python and the small project-k file ` projectk.py `, at the same directory where you launched this jupyter notebook, are all you need.\n",
    "\n",
    "## 1. Import the project-k kernel\n",
    "\n",
    "Create a project-k VM object, check it out and list its attributes.\n"
   ]
  },
  {
   "cell_type": "code",
   "execution_count": 13,
   "metadata": {},
   "outputs": [],
   "source": [
    "import projectk as vm  # vm means 'Virtual Machine'. "
   ]
  },
  {
   "cell_type": "markdown",
   "metadata": {},
   "source": [
    "The above python statement created an instance of project-k VM. Imagine that it is a virtual CPU that has only two instructions `code` and `end-code`. Let's see what are in the vm in the next cell:"
   ]
  },
  {
   "cell_type": "code",
   "execution_count": 15,
   "metadata": {},
   "outputs": [
    {
     "name": "stdout",
     "output_type": "stream",
     "text": [
      "['Comment', 'EXIT', 'RET', 'Word', 'code', 'comma', 'compiling', 'context', 'context_word_list', 'current', 'current_word_list', 'debug', 'dictate', 'dictionary', 'dis', 'docode', 'doendcode', 'endcode', 'execute', 'genfunc', 'genxt', 'here', 'inner', 'inspect', 'ip', 'isReDef', 'json', 'last', 'local', 'major_version', 'name', 'newhelp', 'newname', 'newxt', 'nextstring', 'nexttoken', 'ntib', 'order', 'os', 'outer', 'pdb', 'phaseA', 'phaseB', 'pop', 'push', 're', 'reset', 'rpop', 'rstack', 'rtos', 'stack', 'stop', 'sys', 'tib', 'tick', 'tos', 'vm', 'vocs', 'wordhash', 'words']\n"
     ]
    }
   ],
   "source": [
    "print([propertie for propertie in dir(vm) if not propertie.endswith('__')])"
   ]
  },
  {
   "cell_type": "markdown",
   "metadata": {},
   "source": [
    "## 2. Try the VM's basic features\n",
    "\n",
    "Let's try some project-k VM methods:"
   ]
  },
  {
   "cell_type": "code",
   "execution_count": 23,
   "metadata": {},
   "outputs": [
    {
     "data": {
      "text/plain": [
       "[123]"
      ]
     },
     "execution_count": 23,
     "metadata": {},
     "output_type": "execute_result"
    }
   ],
   "source": [
    "vm.dictate(\"123\").stack"
   ]
  },
  {
   "cell_type": "markdown",
   "metadata": {},
   "source": [
    "`vm.dictate()` method is the way project-k VM receives your commands (in a multiple lines string). It actually is also the way we feed it an entire Forth source code file. `\"123\"` means: \"please push this number into the FORTH data stack\". `vm.stack` is the Forth VM data stack which was empty at first and now has one item, 123, that we've just put in it. Some methods as `vm.dictate()` returns the vm object itself so we can cascade multiple function calls in one line. Therefore the above statement `vm.dictate(\"123\").stack` equals to the two lines:\n",
    "\n",
    "    \n",
    "    vm.dictate(\"123\")\n",
    "    vm.stack"
   ]
  },
  {
   "cell_type": "markdown",
   "metadata": {},
   "source": [
    "## 3. Use `code` and `end-code` to define a high-level FORTH word\n",
    "\n",
    "Now we can start to define new words:"
   ]
  },
  {
   "cell_type": "code",
   "execution_count": 27,
   "metadata": {},
   "outputs": [
    {
     "name": "stdout",
     "output_type": "stream",
     "text": [
      "reDef hi\n",
      "Hello World!!\n"
     ]
    }
   ],
   "source": [
    "vm.dictate(\"code hi print('Hello World!!') end-code hi\");"
   ]
  },
  {
   "cell_type": "markdown",
   "metadata": {},
   "source": [
    "Do you know what have we done? We defined a new FORTH word and it works!"
   ]
  },
  {
   "cell_type": "markdown",
   "metadata": {},
   "source": [
    "## 4. Define the 'words' command\n",
    "\n",
    "'words' is a basic FORTH word (or a FORTH command) that lists all words of recent vocabularies. This example shows you how to define it. We have only 4 words so far."
   ]
  },
  {
   "cell_type": "code",
   "execution_count": 28,
   "metadata": {},
   "outputs": [
    {
     "name": "stdout",
     "output_type": "stream",
     "text": [
      "reDef words\n",
      "['code', 'end-code', 'hi', 'hi', 'words', 'hi', 'words']\n"
     ]
    }
   ],
   "source": [
    "vm.dictate(\"code words print([w.name for w in words['forth'][1:]]) end-code words\");"
   ]
  },
  {
   "cell_type": "markdown",
   "metadata": {},
   "source": [
    "## 5. Define commands `+` , `.s` , and `s\"`."
   ]
  },
  {
   "cell_type": "code",
   "execution_count": 30,
   "metadata": {},
   "outputs": [
    {
     "name": "stdout",
     "output_type": "stream",
     "text": [
      "reDef +\n"
     ]
    }
   ],
   "source": [
    "vm.dictate(\"code + push(pop(1)+pop()) end-code\");"
   ]
  },
  {
   "cell_type": "markdown",
   "metadata": {},
   "source": [
    "The vm knows how to do the '+' now, let's try:"
   ]
  },
  {
   "cell_type": "code",
   "execution_count": null,
   "metadata": {},
   "outputs": [],
   "source": [
    "vm.dictate(\"code .s print(stack) end-code\");"
   ]
  },
  {
   "cell_type": "code",
   "execution_count": null,
   "metadata": {},
   "outputs": [],
   "source": [
    "vm.dictate('code s\" push(nexttoken(\\'\"\\'));nexttoken() end-code');"
   ]
  },
  {
   "cell_type": "code",
   "execution_count": 29,
   "metadata": {},
   "outputs": [
    {
     "name": "stdout",
     "output_type": "stream",
     "text": [
      "[123, 'Forth', ' is the easist', ' programming langage']\n",
      "[123, 'Forth is the easist programming langage']\n"
     ]
    }
   ],
   "source": [
    "vm.dictate('s\" Forth\" s\"  is the easist\" s\"  programming langage\" .s + + .s');"
   ]
  }
 ],
 "metadata": {
  "kernelspec": {
   "display_name": "Python 3",
   "language": "python",
   "name": "python3"
  },
  "language_info": {
   "codemirror_mode": {
    "name": "ipython",
    "version": 3
   },
   "file_extension": ".py",
   "mimetype": "text/x-python",
   "name": "python",
   "nbconvert_exporter": "python",
   "pygments_lexer": "ipython3",
   "version": "3.6.0"
  }
 },
 "nbformat": 4,
 "nbformat_minor": 2
}
