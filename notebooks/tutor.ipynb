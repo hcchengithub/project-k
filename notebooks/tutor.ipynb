{
 "cells": [
  {
   "cell_type": "markdown",
   "metadata": {},
   "source": [
    "# An introduction to the project-k FORTH kernel\n",
    "### No download nor installation needed\n",
    "\n",
    "`project-k` is a very small FORTH programming language kernel supporting Javascript and Python open-sourced on GitHub https://github.com/hcchengithub/project-k. The only source code file for Python named `projectk.py` has only 20k bytes includes a lot of comments. You don't need to download it because we already have it here:\n",
    "\n",
    "<img src=\"projectk.jpg\"> \n",
    "\n",
    "We are going to use this FORTH kernel to build our own tiny FORTH programming language system. You can hands-on try everything on this Jupyter Notebook online playground (https://notebooks.ai/hcchen5600/an-introduction-to-forth-kernel/lab you're supposed reading it now) immediately. "
   ]
  },
  {
   "cell_type": "markdown",
   "metadata": {},
   "source": [
    "### Import the FORTH kernel\n",
    "The python statement below imports `projectk.py` and gives it an arbitrary nick name `vm`. As shown below we can see that `vm` is a python module and it is an instance of `projectk.py` which is our FORTH kernel."
   ]
  },
  {
   "cell_type": "code",
   "execution_count": 1,
   "metadata": {},
   "outputs": [
    {
     "data": {
      "text/plain": [
       "<module 'projectk' from 'C:\\\\Users\\\\hcche\\\\Downloads\\\\projectk.py'>"
      ]
     },
     "execution_count": 1,
     "metadata": {},
     "output_type": "execute_result"
    }
   ],
   "source": [
    "# In case you are not familiar with Jupyter Notebook, click here and press Ctrl+Enter to run this cell.\n",
    "import projectk as vm\n",
    "vm"
   ]
  },
  {
   "cell_type": "markdown",
   "metadata": {},
   "source": [
    "Python standard function `dir(obj)` gets all member names of an object. Lest's see what are in the FORTH kernel `vm`:"
   ]
  },
  {
   "cell_type": "code",
   "execution_count": 2,
   "metadata": {},
   "outputs": [
    {
     "name": "stdout",
     "output_type": "stream",
     "text": [
      "['EXIT', 'RET', 'Word', '__builtins__', '__cached__', '__doc__', '__file__', '__loader__', '__name__', '__package__', '__spec__', 'code', 'comma', 'compiling', 'context', 'context_word_list', 'current', 'current_word_list', 'dictate', 'dictionary', 'docode', 'doendcode', 'endcode', 'execute', 'genfunc', 'genxt', 'here', 'inner', 'ip', 'isReDef', 'last', 'major_version', 'name', 'newhelp', 'newname', 'newxt', 'nextstring', 'nexttoken', 'ntib', 'order', 'outer', 'phaseA', 'phaseB', 'pop', 'push', 're', 'reset', 'rpop', 'rstack', 'rtos', 'stack', 'stop', 'sys', 'tib', 'tick', 'tos', 'vm', 'vocs', 'wordhash', 'words']\n"
     ]
    }
   ],
   "source": [
    "print(dir(vm))"
   ]
  },
  {
   "cell_type": "markdown",
   "metadata": {},
   "source": [
    "I only want you to see that there are very few properties and methods in this FORTH kernel object and many of them are conventional FORTH tokens like `code`, `endcode`, `comma`, `compiling`, `dictionary`, `here`, `last`, `stack`, `pop`, `push`, `tos`, `rpop`, `rstack`, `rtos`, `tib`, `ntib`, `tick`, and `words`. "
   ]
  },
  {
   "cell_type": "markdown",
   "metadata": {},
   "source": [
    "### Now let's play\n",
    "The property `vm.stack` is the FORTH data stack which is empty at first. "
   ]
  },
  {
   "cell_type": "code",
   "execution_count": 3,
   "metadata": {},
   "outputs": [
    {
     "data": {
      "text/plain": [
       "[]"
      ]
     },
     "execution_count": 3,
     "metadata": {},
     "output_type": "execute_result"
    }
   ],
   "source": [
    "vm.stack"
   ]
  },
  {
   "cell_type": "markdown",
   "metadata": {},
   "source": [
    "`vm.dictate()` method is the way project-k VM receives your commands (a string). It actually is also the way we feed it an entire FORTH source code file. Everything given to `vm.dictate()` is like a command line you type to the FORTH system as simple as only a number:\n"
   ]
  },
  {
   "cell_type": "code",
   "execution_count": 4,
   "metadata": {},
   "outputs": [
    {
     "data": {
      "text/plain": [
       "[123]"
      ]
     },
     "execution_count": 4,
     "metadata": {},
     "output_type": "execute_result"
    }
   ],
   "source": [
    "vm.dictate(\"123\")\n",
    "vm.stack"
   ]
  },
  {
   "cell_type": "markdown",
   "metadata": {},
   "source": [
    "The first line above dictates project-k VM to push 123 onto the data stack and the second line views the data stack. We can even cascade these two lines into one:"
   ]
  },
  {
   "cell_type": "code",
   "execution_count": 5,
   "metadata": {},
   "outputs": [
    {
     "data": {
      "text/plain": [
       "[123, 456]"
      ]
     },
     "execution_count": 5,
     "metadata": {},
     "output_type": "execute_result"
    }
   ],
   "source": [
    "vm.dictate(\"456\").stack"
   ]
  },
  {
   "cell_type": "markdown",
   "metadata": {},
   "source": [
    "because `vm.dictate()` returns the vm object itself.\n",
    "\n",
    "### project-k VM knows only two words 'code' and 'end-code' at first\n",
    "\n",
    "Let's define a FORTH command (or 'word') that prints \"Hello World!!\":"
   ]
  },
  {
   "cell_type": "code",
   "execution_count": 6,
   "metadata": {},
   "outputs": [
    {
     "name": "stdout",
     "output_type": "stream",
     "text": [
      "Hello World!!\n"
     ]
    }
   ],
   "source": [
    "vm.dictate(\"code hi! print('Hello World!!') end-code\");  # define the \"hi!\" comamnd where print() is a standard python function\n",
    "vm.dictate(\"hi!\");"
   ]
  },
  {
   "cell_type": "markdown",
   "metadata": {},
   "source": [
    "Did you know what have we done? We defined a new FORTH code word! By the way, we can use any character in a word name except white spaces. This is a FORTH convention. "
   ]
  },
  {
   "cell_type": "markdown",
   "metadata": {},
   "source": [
    "### Define the 'words' command to view all words\n",
    "\n",
    "I'd like to see what are all the words we have so far. The FORTH command 'words' is what we want now but this tiny FORTH system does not have it yet. We have to define it:"
   ]
  },
  {
   "cell_type": "code",
   "execution_count": 7,
   "metadata": {},
   "outputs": [
    {
     "name": "stdout",
     "output_type": "stream",
     "text": [
      "['code', 'end-code', 'hi!', 'words']\n"
     ]
    }
   ],
   "source": [
    "vm.dictate(\"code words print([w.name for w in vm.words['forth'][1:]]) end-code\")\n",
    "vm.dictate(\"words\");"
   ]
  },
  {
   "cell_type": "markdown",
   "metadata": {},
   "source": [
    "In the above definition the `vm.words` is a python dictionary (not FORTH dictionary) defined in the project-k VM object as a property which is something like an array of all recent words in the recent vocabulary named `forth` which is the only one vocabulary comes with the FORTH kernel. Where a FORTH 'vocabulary' is simply a key in python dictionary key:value pair. \n",
    "We have only 4 words so far as the `words` new command show above. Where 'code' and 'end-code' are built-in in the FORTH kernel; 'hi!' and 'words' were defined above."
   ]
  },
  {
   "cell_type": "markdown",
   "metadata": {},
   "source": [
    "### Define '`+`' and conventional FORTH words '`.s`' , and '`s\"`' \n",
    "\n",
    "Next exercise is to define some more FORTH words."
   ]
  },
  {
   "cell_type": "code",
   "execution_count": 8,
   "metadata": {},
   "outputs": [
    {
     "name": "stdout",
     "output_type": "stream",
     "text": [
      "['code', 'end-code', 'hi!', 'words', '+', '.s', 's\"']\n"
     ]
    }
   ],
   "source": [
    "vm.dictate(\"code + push(pop(1)+pop()) end-code\");  # pop two operands from FORTH data stack and push back the result  \n",
    "vm.dictate(\"code .s print(stack) end-code\");  # print the FORTH data stack\n",
    "vm.dictate('code s\" push(nexttoken(\\'\"\\'));nexttoken() end-code');  # get a string \n",
    "vm.dictate('words');  # list all recent words"
   ]
  },
  {
   "cell_type": "markdown",
   "metadata": {},
   "source": [
    "This example demonstrates how to use built-in methods `push()`, `pop()`, `nexttoken()` and the `stack` property (or global variable). As shown in above definitions, we can omit `vm.` so `vm.push`, `vm.stack` are simplified to `push`, `stack` because `code ... end-code` definitions are right in the VM name space. Now let's try these new words:"
   ]
  },
  {
   "cell_type": "code",
   "execution_count": 9,
   "metadata": {},
   "outputs": [
    {
     "name": "stdout",
     "output_type": "stream",
     "text": [
      "['Forth ', 'is the easist ', 'programming langage.']\n"
     ]
    }
   ],
   "source": [
    "vm.stack = []  # clear the data stack\n",
    "vm.dictate(' s\" Forth \"')  # get the string 'Forth '\n",
    "vm.dictate(' s\" is the easist \"')  # get the string 'is the easist '\n",
    "vm.dictate(' s\" programming langage.\"')  # get the string 'programing language.'\n",
    "vm.dictate('.s');  # view the data stack"
   ]
  },
  {
   "cell_type": "code",
   "execution_count": 10,
   "metadata": {},
   "outputs": [
    {
     "name": "stdout",
     "output_type": "stream",
     "text": [
      "['Forth ', 'is the easist programming langage.']\n",
      "['Forth is the easist programming langage.']\n"
     ]
    }
   ],
   "source": [
    "print(vm.dictate('+').stack)  # concatenate top two strings\n",
    "print(vm.dictate('+').stack)  # concatenate the reset"
   ]
  },
  {
   "cell_type": "markdown",
   "metadata": {},
   "source": [
    "The `+` command can certainly concatenate strings together and also can add numbers because Python's `+` operator works that way. Please try it with integers and floating point numbers: "
   ]
  },
  {
   "cell_type": "code",
   "execution_count": 11,
   "metadata": {},
   "outputs": [
    {
     "name": "stdout",
     "output_type": "stream",
     "text": [
      "579\n",
      "46.83\n"
     ]
    }
   ],
   "source": [
    "print(vm.dictate('123 456 + ').pop());  # Push 123, push 456, add them \n",
    "print(vm.dictate('1.23 45.6 + ').pop());"
   ]
  },
  {
   "cell_type": "markdown",
   "metadata": {},
   "source": [
    "\n",
    "If you want to see more examples like how to define `if`,`else`,`then`,`for`,`next`,`begin`,`again` and more please refer to https://github.com/hcchengithub/peforth and find `peforth.f` source code file. \n",
    "\n",
    "Below tables list and explain all project-k FORTH kernel properties and methods.\n",
    "\n",
    "Global variables and Built-in functions\n",
    "---------------------------------------\n",
    "\n",
    "Global variables (properties of the project-k object) and built-in functions (methods of the project-k object)  can be seen and used in FORTH `code ... end-code` word definitions. You are encouraged to read the `projectk.py` source code directly. It's short, interesting and with a lot of comments.\n",
    "\n",
    "Global variables\n",
    "-------------------\n",
    "\n",
    "| No.   | Global variable initial definition| Description |\n",
    "|:--------|:----------|:---------|\n",
    "| 1  | vm | The project-k module object. |\n",
    "| 2  | wordhash = {} | Forth words of recent active vocabularies. Find and get the word object through its name at the highest speed. |\n",
    "| 3  | RET=None| The 'ret' instruction code. It marks the **end** of a colon word. |\n",
    "| 4  | EXIT=\"\"| The 'exit' instruction code. Same effect as 'ret' but used **in** colon definitions (instead of at the **end** of them). |\n",
    "| 5  | stop = False| The flag to stop the outer loop. |\n",
    "| 6 | newname = \"\"| The last new word's name. |\n",
    "| 7 | newxt = function() | The last new word's executable. |\n",
    "\n",
    "Above variables may not found in a traditional Forth system. \n",
    "Following ones are common Forth global variables you probably are \n",
    "very familiar with already .\n",
    "\n",
    "| No.   | Global variable initial definition| Description |\n",
    "|:--------|:----------|:---------|\n",
    "| 8 | compiling=False | The conventional flag of the Forth system state which is either compiling or interpreting. |\n",
    "|  9 | ip=0 | The instruction pointer. Always points to the next word when in the inner loop. |\n",
    "| 10 | stack = [] | The data stack. |\n",
    "| 11 | rstack = [] | The return stack. |\n",
    "| 12 | vocs = [] | The vocabulary list. e.g. ['forth','assembler', ...]|\n",
    "| 13 | words = {} | The word-list. e.g. words['forth'][], words['assembler'][], ... etc. |\n",
    "| 14 | current = \"forth\" | The current definition of word-list or vocabulary. |\n",
    "| 15 | context = \"forth\" | The recent top priority word-list or vocabulary.|\n",
    "| 16 | order = [context] | Active vocabularies and their priority order. |\n",
    "| 17 | dictionary=[]; dictionary[0]=0; | The Forth VM memory. |\n",
    "| 18 | here=1 | Index of the Form VM memory. Next free address. |\n",
    "| 19 | tib=\"\" | The conventional Forth system's Terminal Input Buffer string. |\n",
    "| 20 | ntib=0 | The index of TIB string. |\n",
    "\n",
    "Built-in functions\n",
    "---------------------\n",
    "\n",
    "| No.   | Built-in function | Description |\n",
    "|:-------|:----------|:---------|\n",
    "| 1 | dictate(\"commands\")          | An exported method of the project-k VM. This is where the Forth VM receives commands from the outside world. |\n",
    "| 2 | Word(a[])                    | The common constructor of all Forth words. |\n",
    "| 3 | nextstring(\"delimitor\")      | Low level tool to get next string from TIB. |\n",
    "| 4 | nexttoken(\"delimitor\")       | High level tool to get next string from TIB. |\n",
    "| 5 | panic(\"msg\", bool:severe) | Prints the error message. |\n",
    "| 6 | reset(void)                  | Reset the Forth VM to avoid hanging up the computer. |\n",
    "| 7 | isReDef(\"name\")              | Check if the new word is a re-defined. |\n",
    "| 8 | mytypeof(x)                  | N/A, only needed in projectk.js |\n",
    "| 9 | inner(entry, bool:resuming) | The loop that runs through a colon definition as fast as possible. |\n",
    "| 10 | outer(entry) | The loop that walks through the command string from dictate(). |\n",
    "\n",
    "Above functions may not be seen in a traditional Forth system \n",
    "and that's all of them. Following ones are from common Forth \n",
    "words you probably are very familiar with already.\n",
    "\n",
    "| No.   | Built-in function | Description |\n",
    "|:--------|:----------|:---------|\n",
    "| 11 | current_word_list(void) | Gets words[current]. |\n",
    "| 12 | context_word_list(void) | Gets words[context]. |\n",
    "| 13 | tick(\"name\") | Find the word object through the given word name. |\n",
    "| 14 | comma(x) | Comile x into the dictionary. |\n",
    "| 15 | execute(x) | Execte one word. x can be a word name or a word object or simply a function. |\n",
    "| 16 | tos(void\\|index) | Get a value from the data stack w/o removing it. tos() or tos(0) is the Top of the data stack.|\n",
    "| 17 | rtos(void\\|index) | Similar to tos() but works on the return stack. |\n",
    "| 18 | pop(void\\|index) | Get and consume a value from the data stack. pop() or pop(0) is the Top of the data stack. |\n",
    "| 19 | push(data,volid\\|index) | Push a value into the data stack. push(data) or push(data,0) adds the value to the Top of the data stack. |\n",
    "| 20 | type(\"s\") | N/A， for projectk.js only |\n",
    "| 21 | last(void) | Gets the last defined Forth word. |\n",
    "\n",
    "\n",
    "#### May the FORTH be with you!\n",
    "\n",
    "H.C. Chen @ FigTaiwan<br>\n",
    "hcchen5600@gmail.com \n",
    "\n",
    "\n",
    "# ─ The End ─"
   ]
  }
 ],
 "metadata": {
  "kernelspec": {
   "display_name": "Python 3",
   "language": "python",
   "name": "python3"
  },
  "language_info": {
   "codemirror_mode": {
    "name": "ipython",
    "version": 3
   },
   "file_extension": ".py",
   "mimetype": "text/x-python",
   "name": "python",
   "nbconvert_exporter": "python",
   "pygments_lexer": "ipython3",
   "version": "3.6.9"
  }
 },
 "nbformat": 4,
 "nbformat_minor": 2
}
